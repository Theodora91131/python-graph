{
 "cells": [
  {
   "cell_type": "code",
   "execution_count": 1,
   "id": "f23afafe",
   "metadata": {},
   "outputs": [
    {
     "name": "stderr",
     "output_type": "stream",
     "text": [
      "C:\\Users\\ASUS\\anaconda3\\envs\\tf2\\lib\\site-packages\\ipykernel_launcher.py:5: MatplotlibDeprecationWarning: Using a string of single character colors as a color sequence is deprecated since 3.2 and will be removed two minor releases later. Use an explicit list instead.\n",
      "  \"\"\"\n"
     ]
    },
    {
     "data": {
      "image/png": "[encoded data removed]",
      "text/plain": [
       "<Figure size 432x288 with 1 Axes>"
      ]
     },
     "metadata": {
      "needs_background": "light"
     },
     "output_type": "display_data"
    }
   ],
   "source": [
    "import matplotlib.pyplot as plt\n",
    "\n",
    "listx = ['c','c++','c#','java','python']\n",
    "listy = [45,28,38,32,50]\n",
    "plt.bar(listx, listy, width=0.5, color='grykb')\n",
    "plt.title(\"選修人數\") \n",
    "plt.xlabel(\"程式課程\")\n",
    "plt.ylabel(\"選修人數\")\n",
    "# 設定中文字型及負號正確顯示\n",
    "plt.rcParams[\"font.sans-serif\"] = \"Microsoft JhengHei\" #也可設mingliu或DFKai-SB\n",
    "plt.rcParams[\"axes.unicode_minus\"] = False\n",
    "plt.show()"
   ]
  },
  {
   "cell_type": "code",
   "execution_count": null,
   "id": "972a4971",
   "metadata": {},
   "outputs": [],
   "source": []
  },
  {
   "cell_type": "code",
   "execution_count": null,
   "id": "789f7454",
   "metadata": {},
   "outputs": [],
   "source": []
  }
 ],
 "metadata": {
  "kernelspec": {
   "display_name": "Python 3",
   "language": "python",
   "name": "python3"
  },
  "language_info": {
   "codemirror_mode": {
    "name": "ipython",
    "version": 3
   },
   "file_extension": ".py",
   "mimetype": "text/x-python",
   "name": "python",
   "nbconvert_exporter": "python",
   "pygments_lexer": "ipython3",
   "version": "3.7.10"
  }
 },
 "nbformat": 4,
 "nbformat_minor": 5
}
