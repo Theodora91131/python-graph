{
 "cells": [
  {
   "cell_type": "code",
   "execution_count": 1,
   "id": "a5a88bf8",
   "metadata": {},
   "outputs": [
    {
     "data": {
      "image/png": "[encoded data removed]",
      "text/plain": [
       "<Figure size 432x288 with 1 Axes>"
      ]
     },
     "metadata": {
      "needs_background": "light"
     },
     "output_type": "display_data"
    }
   ],
   "source": [
    "# %load bar3.py\n",
    "import matplotlib.pyplot as plt\n",
    "\n",
    "listx = ['c','c++','c#','java','python']\n",
    "listy1 = [25,20,20,16,28]\n",
    "listy2 = [20,8,18,16,22]\n",
    "plt.bar(listx, listy1, width=0.5, label='男')\n",
    "plt.bar(listx, listy2, width=0.5, bottom=listy1, label='女')\n",
    "plt.legend()\n",
    "plt.title(\"選修人數\")\n",
    "plt.xlabel(\"程式課程\")\n",
    "plt.ylabel(\"選修人數\")\n",
    "# 設定中文字型及負號正確顯示\n",
    "# 設定中文字型及負號正確顯示\n",
    "plt.rcParams[\"font.sans-serif\"] = \"Microsoft JhengHei\" #也可設mingliu或DFKai-SB\n",
    "plt.rcParams[\"axes.unicode_minus\"] = False\n",
    "plt.show()\n",
    "plt.show()"
   ]
  },
  {
   "cell_type": "code",
   "execution_count": null,
   "id": "c56c45ce",
   "metadata": {},
   "outputs": [],
   "source": []
  }
 ],
 "metadata": {
  "kernelspec": {
   "display_name": "Python 3",
   "language": "python",
   "name": "python3"
  },
  "language_info": {
   "codemirror_mode": {
    "name": "ipython",
    "version": 3
   },
   "file_extension": ".py",
   "mimetype": "text/x-python",
   "name": "python",
   "nbconvert_exporter": "python",
   "pygments_lexer": "ipython3",
   "version": "3.7.10"
  }
 },
 "nbformat": 4,
 "nbformat_minor": 5
}
