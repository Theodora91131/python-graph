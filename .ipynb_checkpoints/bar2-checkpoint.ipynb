{
 "cells": [
  {
   "cell_type": "code",
   "execution_count": 1,
   "id": "83e88758",
   "metadata": {},
   "outputs": [
    {
     "name": "stderr",
     "output_type": "stream",
     "text": [
      "C:\\Users\\ASUS\\anaconda3\\envs\\tf2\\lib\\site-packages\\ipykernel_launcher.py:6: MatplotlibDeprecationWarning: Using a string of single character colors as a color sequence is deprecated since 3.2 and will be removed two minor releases later. Use an explicit list instead.\n",
      "  \n"
     ]
    },
    {
     "data": {
      "image/png": "[encoded data removed]",
      "text/plain": [
       "<Figure size 432x288 with 1 Axes>"
      ]
     },
     "metadata": {
      "needs_background": "light"
     },
     "output_type": "display_data"
    }
   ],
   "source": [
    "# %load bar2.py\n",
    "import matplotlib.pyplot as plt\n",
    "\n",
    "listy = ['c','c++','c#','java','python']\n",
    "listx = [45,28,38,32,50]\n",
    "plt.barh(listy, listx, height=0.5, color='rgbky')\n",
    "plt.title(\"資訊程式課程選修人數\")\n",
    "plt.xlabel(\"程式課程\")\n",
    "plt.ylabel(\"選修人數\")\n",
    "# 設定中文字型及負號正確顯示\n",
    "plt.rcParams[\"font.sans-serif\"] = \"Microsoft JhengHei\" #也可設mingliu或DFKai-SB\n",
    "plt.rcParams[\"axes.unicode_minus\"] = False\n",
    "plt.show()"
   ]
  },
  {
   "cell_type": "code",
   "execution_count": null,
   "id": "355a42ea",
   "metadata": {},
   "outputs": [],
   "source": []
  }
 ],
 "metadata": {
  "kernelspec": {
   "display_name": "Python 3",
   "language": "python",
   "name": "python3"
  },
  "language_info": {
   "codemirror_mode": {
    "name": "ipython",
    "version": 3
   },
   "file_extension": ".py",
   "mimetype": "text/x-python",
   "name": "python",
   "nbconvert_exporter": "python",
   "pygments_lexer": "ipython3",
   "version": "3.7.10"
  }
 },
 "nbformat": 4,
 "nbformat_minor": 5
}
